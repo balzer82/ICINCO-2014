{
 "metadata": {
  "name": ""
 },
 "nbformat": 3,
 "nbformat_minor": 0,
 "worksheets": [
  {
   "cells": [
    {
     "cell_type": "code",
     "collapsed": false,
     "input": [
      "import numpy as np\n",
      "import matplotlib.pyplot as plt\n",
      "%pylab inline --no-import-all"
     ],
     "language": "python",
     "metadata": {},
     "outputs": [
      {
       "output_type": "stream",
       "stream": "stdout",
       "text": [
        "Populating the interactive namespace from numpy and matplotlib\n"
       ]
      }
     ],
     "prompt_number": 1
    },
    {
     "cell_type": "heading",
     "level": 1,
     "metadata": {},
     "source": [
      "Generating Vehicle Data + GNSS"
     ]
    },
    {
     "cell_type": "code",
     "collapsed": false,
     "input": [],
     "language": "python",
     "metadata": {},
     "outputs": [],
     "prompt_number": 1
    },
    {
     "cell_type": "code",
     "collapsed": false,
     "input": [
      "dt = 0.1     # Timestep s"
     ],
     "language": "python",
     "metadata": {},
     "outputs": [],
     "prompt_number": 2
    },
    {
     "cell_type": "code",
     "collapsed": false,
     "input": [
      "def move(x,v,a,dt):\n",
      "    v = v + a*dt\n",
      "    x = x + v*dt + 0.5*a*dt**2\n",
      "    y = 0.0\n",
      "    return x,y,v"
     ],
     "language": "python",
     "metadata": {},
     "outputs": [],
     "prompt_number": 3
    },
    {
     "cell_type": "code",
     "collapsed": false,
     "input": [
      "def GPS(x,y,sp):\n",
      "    GNSSx = x + np.sqrt(sp)*(np.random.randn(1)-0.5)\n",
      "    GNSSy = y + np.sqrt(sp)*(np.random.randn(1)-0.5)\n",
      "    return GNSSx, GNSSy"
     ],
     "language": "python",
     "metadata": {},
     "outputs": [],
     "prompt_number": 4
    },
    {
     "cell_type": "code",
     "collapsed": false,
     "input": [
      "v = 50.0/3.6  # velocity m/s\n",
      "x = 0.0       # position m\n",
      "t = 0.0\n",
      "\n",
      "xout=[]\n",
      "yout=[]\n",
      "vout=[]\n",
      "aout=[]\n",
      "EPEout=[]\n",
      "GNSSxout=[]\n",
      "GNSSyout=[]\n",
      "\n",
      "# Breaking and cornering\n",
      "while v>0.0:\n",
      "    a = -0.6      # acceleration m/s2\n",
      "    x,y,v = move(x,v,a,dt)\n",
      "    \n",
      "    sp = 2.0\n",
      "    GNSSx, GNSSy = GPS(x,y,sp)\n",
      "    \n",
      "    xout.append(x)\n",
      "    yout.append(y)\n",
      "    vout.append(v)\n",
      "    aout.append(a)\n",
      "    EPEout.append(sp)\n",
      "    GNSSxout.append(GNSSx)\n",
      "    GNSSyout.append(GNSSy)    \n",
      "    t+=dt\n",
      "\n",
      "\n",
      "# Waiting    \n",
      "twait = t+20.0\n",
      "while t<twait:\n",
      "    a = 0.0      # acceleration m/s2\n",
      "    x,y,v = move(x,v,a,dt)\n",
      "\n",
      "    sp = 20.0\n",
      "    GNSSx, GNSSy = GPS(x,y,sp)\n",
      "    \n",
      "    xout.append(x)\n",
      "    yout.append(y)\n",
      "    vout.append(v)\n",
      "    aout.append(a)\n",
      "    EPEout.append(sp)    \n",
      "    GNSSxout.append(GNSSx)\n",
      "    GNSSyout.append(GNSSy)    \n",
      "    t+=dt\n",
      "    \n",
      "# Accelerating\n",
      "while v<(50.0/3.6):\n",
      "    a = 4.0      # acceleration m/s2\n",
      "    x,y,v = move(x,v,a,dt)\n",
      "\n",
      "    sp = 2.0\n",
      "    GNSSx, GNSSy = GPS(x,y,sp)\n",
      "    \n",
      "    xout.append(x)\n",
      "    yout.append(y)    \n",
      "    vout.append(v)\n",
      "    aout.append(a)\n",
      "    EPEout.append(sp)    \n",
      "    GNSSxout.append(GNSSx)\n",
      "    GNSSyout.append(GNSSy)    \n",
      "    t+=dt\n",
      "\n",
      "\n",
      "# Passing a Building    \n",
      "tdrive = t+25.0\n",
      "tbadGPS = t+10.0\n",
      "tbadGPSend=t+12.0\n",
      "while t<tdrive:\n",
      "    a = 0.0      # acceleration m/s2\n",
      "    x,y,v = move(x,v,a,dt)\n",
      "\n",
      "    if t>tbadGPS and t<tbadGPSend:\n",
      "        sp = 25.0\n",
      "        GNSSx, GNSSy = GPS(x,y,sp)\n",
      "        GNSSy+=15.0\n",
      "    else:\n",
      "        sp = 2.0\n",
      "        GNSSx, GNSSy = GPS(x,y,sp)\n",
      "    \n",
      "    xout.append(x)\n",
      "    yout.append(y)    \n",
      "    vout.append(v)\n",
      "    aout.append(a) \n",
      "    EPEout.append(sp)    \n",
      "    GNSSxout.append(GNSSx)\n",
      "    GNSSyout.append(GNSSy)    \n",
      "    t+=dt   "
     ],
     "language": "python",
     "metadata": {},
     "outputs": [],
     "prompt_number": 5
    },
    {
     "cell_type": "code",
     "collapsed": false,
     "input": [
      "plt.figure(figsize=(8,3))\n",
      "plt.plot(xout, yout, color='k', label='Ground Truth')\n",
      "plt.scatter(GNSSxout, GNSSyout, label='GNSS measurements')\n",
      "plt.legend(loc='best')\n",
      "plt.axis('equal')\n",
      "plt.xlabel('Position X ($m$)')\n",
      "plt.xlim([-10, np.max(xout)+10])\n",
      "plt.ylabel('Position Y ($m$)')\n",
      "plt.title('View from top with building (B)')\n",
      "\n",
      "# Annotations\n",
      "bbox_props = dict(boxstyle=\"square,pad=0.8\", fc=\"k\", ec=\"w\", lw=2)\n",
      "t = plt.text(340, -40, \"B\", ha=\"left\", va=\"center\", rotation=0,\n",
      "            size=14, color='grey',\n",
      "            bbox=bbox_props)\n",
      "\n",
      "plt.annotate('stop', xy=(144, -20), xytext=(110, -60), fontsize=16,\n",
      "            arrowprops=dict(facecolor='k', shrink=0.05), ha='center',\n",
      "            )\n",
      "\n",
      "plt.savefig('Testdata.eps', bbox_inches='tight')"
     ],
     "language": "python",
     "metadata": {},
     "outputs": [
      {
       "metadata": {},
       "output_type": "display_data",
       "png": "[encoded data removed]",
       "text": [
        "<matplotlib.figure.Figure at 0x1120eefd0>"
       ]
      }
     ],
     "prompt_number": 6
    },
    {
     "cell_type": "heading",
     "level": 1,
     "metadata": {},
     "source": [
      "Maximum Likelihood Estimator for EPE"
     ]
    },
    {
     "cell_type": "code",
     "collapsed": false,
     "input": [
      "n=10\n",
      "epeout=[]\n",
      "for i in range(len(EPEout)):\n",
      "    if i<n:\n",
      "        epeout.append(2.0)\n",
      "    else:\n",
      "        epeout.append(np.mean(EPEout[(i-n):i]))"
     ],
     "language": "python",
     "metadata": {},
     "outputs": [],
     "prompt_number": 7
    },
    {
     "cell_type": "code",
     "collapsed": false,
     "input": [
      "plt.figure(figsize=(8,3))\n",
      "plt.plot(xout, epeout, color='k', label='Estimated Position Error')\n",
      "plt.legend(loc='best')\n",
      "plt.xlabel('Position X ($m$)')\n",
      "plt.xlim([0, np.max(xout)])\n",
      "plt.ylim([0, np.max(EPEout)+10])\n",
      "plt.ylabel('EPE ($m$)')\n",
      "plt.savefig('Testdata-EPE.eps', bbox_inches='tight')"
     ],
     "language": "python",
     "metadata": {},
     "outputs": [
      {
       "metadata": {},
       "output_type": "display_data",
       "png": "[encoded data removed]",
       "text": [
        "<matplotlib.figure.Figure at 0x1121dd310>"
       ]
      }
     ],
     "prompt_number": 8
    },
    {
     "cell_type": "heading",
     "level": 2,
     "metadata": {},
     "source": [
      "Dump to Disk"
     ]
    },
    {
     "cell_type": "code",
     "collapsed": false,
     "input": [
      "with open('testdata.csv', 'wb') as thefile:\n",
      "    for i in range(len(xout)):\n",
      "       thefile.write(\"%.6f,%.6f,%.6f,%.6f,%.6f,%.6f,%.6f\\n\" % (xout[i], yout[i], 3.6*vout[i], -aout[i], GNSSxout[i], GNSSyout[i], epeout[i]))"
     ],
     "language": "python",
     "metadata": {},
     "outputs": [],
     "prompt_number": 10
    },
    {
     "cell_type": "code",
     "collapsed": false,
     "input": [],
     "language": "python",
     "metadata": {},
     "outputs": [],
     "prompt_number": 10
    }
   ],
   "metadata": {}
  }
 ]
}