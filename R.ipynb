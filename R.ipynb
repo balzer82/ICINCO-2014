{
 "metadata": {
  "name": ""
 },
 "nbformat": 3,
 "nbformat_minor": 0,
 "worksheets": [
  {
   "cells": [
    {
     "cell_type": "code",
     "collapsed": false,
     "input": [
      "import numpy as np\n",
      "import matplotlib.pyplot as plt\n",
      "%pylab inline --no-import-all"
     ],
     "language": "python",
     "metadata": {},
     "outputs": [
      {
       "output_type": "stream",
       "stream": "stdout",
       "text": [
        "Populating the interactive namespace from numpy and matplotlib\n"
       ]
      }
     ],
     "prompt_number": 2
    },
    {
     "cell_type": "heading",
     "level": 1,
     "metadata": {},
     "source": [
      "Adaptive Values for Measurement Covariance Matrix $R$"
     ]
    },
    {
     "cell_type": "markdown",
     "metadata": {},
     "source": [
      "$\\sigma_p^2 = c \\cdot \\sigma_\\text{speed}^2 + \\sigma_\\text{EPE}^2$\n",
      "\n",
      "$\\sigma_v = (v+\\epsilon)^{-\\xi}$\n",
      "\n",
      "$\\sigma_\\text{EPE} = \\zeta \\cdot EPE$"
     ]
    },
    {
     "cell_type": "code",
     "collapsed": false,
     "input": [
      "vrange=np.arange(0.0, 20.01, 0.01)\n",
      "eperange=np.arange(0.0, 8.0, 1)\n",
      "sp=np.empty([eperange.size,vrange.size])\n",
      "\n",
      "epsilon = 0.1\n",
      "xi      = 500.0\n",
      "zeta    = 50.0\n",
      "\n",
      "for vi, v in enumerate(vrange):\n",
      "    for epei, epe in enumerate(eperange):\n",
      "        sv=xi/(v+epsilon)\n",
      "        sepe=zeta*epe\n",
      "        \n",
      "        sp[epei,vi] = sv**2 + sepe**2"
     ],
     "language": "python",
     "metadata": {},
     "outputs": [],
     "prompt_number": 3
    },
    {
     "cell_type": "code",
     "collapsed": false,
     "input": [
      "# Create a simple contour plot with labels using default colors.  The\n",
      "# inline argument to clabel will control whether the labels are draw\n",
      "# over the line segments of the contour, removing the lines beneath\n",
      "# the label\n",
      "\n",
      "V=np.linspace(0,1e5,5+1)\n",
      "\n",
      "plt.figure(figsize=(5,2))\n",
      "CS = plt.contourf(vrange, eperange, sp, V, cmap=plt.get_cmap('binary'), extend='max')\n",
      "cbar=plt.colorbar(CS)\n",
      "cbar.ax.set_ylabel(u'$\\sigma_x^2$ and $\\sigma_y^2$ values', rotation=270)\n",
      "cbar.ax.set_xlabel(u'')\n",
      "\n",
      "tstr = r'$R$ with $\\epsilon=$ %.2f, $\\xi=$ %.2f, $\\zeta=$ %.2f' % (epsilon, xi, zeta)\n",
      "plt.title(tstr, size=12)\n",
      "plt.xlabel('speed $v$ in $m/s$')\n",
      "plt.ylabel('$EPE$ in $m$')\n",
      "\n",
      "#fname = 'R-%s-%s-%s' % (epsilon, xi, zeta)\n",
      "#fname = fname.replace('.','-')\n",
      "plt.savefig('R.eps', bbox_inches='tight')"
     ],
     "language": "python",
     "metadata": {},
     "outputs": [
      {
       "metadata": {},
       "output_type": "display_data",
       "png": "[encoded data removed]",
       "text": [
        "<matplotlib.figure.Figure at 0x10cb22ed0>"
       ]
      }
     ],
     "prompt_number": 4
    },
    {
     "cell_type": "markdown",
     "metadata": {},
     "source": [
      "Awesome!"
     ]
    }
   ],
   "metadata": {}
  }
 ]
}